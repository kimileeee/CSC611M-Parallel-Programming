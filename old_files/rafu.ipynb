{
 "cells": [
  {
   "cell_type": "code",
   "execution_count": 2,
   "metadata": {},
   "outputs": [],
   "source": [
    "import requests\n",
    "from bs4 import BeautifulSoup\n",
    "import re\n",
    "import json\n",
    "from urllib.parse import urljoin\n",
    "from multiprocessing import Process, Manager"
   ]
  },
  {
   "cell_type": "code",
   "execution_count": 3,
   "metadata": {},
   "outputs": [],
   "source": [
    "def extractEmailsFromPage(url, email_list):\n",
    "    response = requests.get(url)\n",
    "    soup = BeautifulSoup(response.content, 'html.parser')\n",
    "    emails = soup.find_all('a', {\"class\": \"__cf_email__\"})\n",
    "    decoded_emails = []\n",
    "    \n",
    "    for i in range(len(emails)):\n",
    "        encoded = emails[i]['data-cfemail']\n",
    "        decoded = cfDecodeEmail(encoded)\n",
    "        decoded_emails.append(decoded)\n",
    "\n",
    "    if len(decoded_emails) != 0:\n",
    "        print(f\"Emails found in url: {url}\")\n",
    "\n",
    "    email_list.extend(decoded_emails)"
   ]
  },
  {
   "cell_type": "code",
   "execution_count": 4,
   "metadata": {},
   "outputs": [],
   "source": [
    "def cfDecodeEmail(encodedString):\n",
    "    r = int(encodedString[:2],16)\n",
    "    email = ''.join([chr(int(encodedString[i:i+2], 16) ^ r) for i in range(2, len(encodedString), 2)])\n",
    "    return email"
   ]
  },
  {
   "cell_type": "code",
   "execution_count": 15,
   "metadata": {},
   "outputs": [],
   "source": [
    "def extractEmailsFromLinks(url):\n",
    "    response = requests.get(url)\n",
    "    soup = BeautifulSoup(response.content, 'html.parser')\n",
    "    links = soup.find_all('a')\n",
    "    emails = []\n",
    "\n",
    "    for link in links:\n",
    "        if 'href' in link.attrs:\n",
    "            if link['href'].find(\"mailto:\") == -1:\n",
    "                continue\n",
    "            else:\n",
    "                email = link['href'].removeprefix(\"mailto:\")\n",
    "                emails.append(email)\n",
    "        else:\n",
    "            continue\n",
    "\n",
    "    return emails\n"
   ]
  },
  {
   "cell_type": "code",
   "execution_count": 16,
   "metadata": {},
   "outputs": [],
   "source": [
    "def getLinks(base_url, visited_list, url_list):\n",
    "    response = requests.get(url=base_url)\n",
    "    soup = BeautifulSoup(response.content, 'html.parser')\n",
    "    links = soup.find_all('a')\n",
    "\n",
    "    found_links = []\n",
    "\n",
    "    for link in links:\n",
    "        if 'href' in link.attrs:\n",
    "                found_links.append(urljoin(base_url, link['href']))\n",
    "        else:\n",
    "            continue\n",
    "\n",
    "    for link in found_links:\n",
    "         if link not in visited_list and link not in url_list:\n",
    "              url_list.append(link)"
   ]
  },
  {
   "cell_type": "code",
   "execution_count": 17,
   "metadata": {},
   "outputs": [],
   "source": [
    "def scraper(base_url, limit, manager_dict):\n",
    "\n",
    "    email_list = manager_dict['email_list']\n",
    "    visited_list = manager_dict['visited_list']\n",
    "    url_list = manager_dict['url_list']\n",
    "\n",
    "    url_list.append(base_url)\n",
    "\n",
    "    while url_list and len(email_list) < limit:\n",
    "        curr_url = url_list.pop(0)\n",
    "        if curr_url in visited_list:\n",
    "            continue\n",
    "\n",
    "        visited_list.append(curr_url)\n",
    "        getLinks(curr_url, visited_list, url_list)\n",
    "\n",
    "        print(f\"Current url: {curr_url}\")\n",
    "        email_list.extend(extractEmailsFromPage(curr_url, email_list))\n",
    "\n",
    "    manager_dict['email_list'] = email_list\n",
    "    manager_dict['visited_list'] = visited_list\n",
    "    manager_dict['url_list'] = url_list\n"
   ]
  },
  {
   "cell_type": "code",
   "execution_count": 18,
   "metadata": {},
   "outputs": [
    {
     "name": "stderr",
     "output_type": "stream",
     "text": [
      "2024-03-03 20:19:30,467 - INFO - Visited list: []\n"
     ]
    }
   ],
   "source": [
    "if __name__ == \"__main__\":\n",
    "\n",
    "    base_url = \"https://www.dlsu.edu.ph/\"\n",
    "    limit = 10\n",
    "\n",
    "    manager = Manager()\n",
    "    manager_dict = manager.dict()\n",
    "    manager_dict['email_list'] = manager.list()\n",
    "    manager_dict['visited_list'] = manager.list()\n",
    "    manager_dict['url_list'] = manager.list()\n",
    "\n",
    "    processes = []\n",
    "\n",
    "    for i in range(4):\n",
    "        process = Process(target=scraper, args=(base_url, limit, manager_dict,))\n",
    "        process.start()\n",
    "        processes.append(process)\n",
    "    \n",
    "    for p in processes:\n",
    "        p.join()\n",
    "\n",
    "    print(manager_dict['url_list'])\n"
   ]
  },
  {
   "cell_type": "code",
   "execution_count": 12,
   "metadata": {},
   "outputs": [
    {
     "name": "stdout",
     "output_type": "stream",
     "text": [
      "True\n",
      "ethel.ong@dlsu.edu.ph\n"
     ]
    }
   ],
   "source": [
    "url = \"https://www.dlsu.edu.ph/cdn-cgi/l/email-protection#aecbdac6cbc280c1c0c9eecac2dddb80cbcadb80dec6\"\n",
    "url = url.removeprefix(\"https://www.dlsu.edu.ph/cdn-cgi/l/email-protection#\")\n",
    "decoded = cfDecodeEmail(url)\n",
    "\n",
    "if url.find(\"https://www.dlsu.edu.ph/cdn-cgi/l/email-protection#\"):\n",
    "    print(True)\n",
    "else:\n",
    "    print(False)\n",
    "\n",
    "print(decoded)"
   ]
  },
  {
   "cell_type": "code",
   "execution_count": null,
   "metadata": {},
   "outputs": [],
   "source": []
  }
 ],
 "metadata": {
  "kernelspec": {
   "display_name": "Python 3",
   "language": "python",
   "name": "python3"
  },
  "language_info": {
   "codemirror_mode": {
    "name": "ipython",
    "version": 3
   },
   "file_extension": ".py",
   "mimetype": "text/x-python",
   "name": "python",
   "nbconvert_exporter": "python",
   "pygments_lexer": "ipython3",
   "version": "3.11.6"
  }
 },
 "nbformat": 4,
 "nbformat_minor": 2
}
